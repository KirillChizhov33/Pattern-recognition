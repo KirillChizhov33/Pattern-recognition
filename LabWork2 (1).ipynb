{
 "cells": [
  {
   "cell_type": "code",
   "execution_count": 2,
   "id": "77d5f4a1",
   "metadata": {},
   "outputs": [],
   "source": [
    "import matplotlib.pyplot as plt\n",
    "%matplotlib inline\n",
    "import numpy as np"
   ]
  },
  {
   "cell_type": "code",
   "execution_count": 3,
   "id": "37535ea8",
   "metadata": {},
   "outputs": [],
   "source": [
    "from sklearn.datasets import fetch_openml\n",
    "\n",
    "# Загружаем данные из https://www.openml.org/d/554\n",
    "X, y = fetch_openml('mnist_784', return_X_y = True, as_frame = False)"
   ]
  },
  {
   "cell_type": "code",
   "execution_count": 4,
   "id": "ebc6c8e9",
   "metadata": {},
   "outputs": [
    {
     "data": {
      "text/plain": [
       "(70000, 784)"
      ]
     },
     "execution_count": 4,
     "metadata": {},
     "output_type": "execute_result"
    }
   ],
   "source": [
    "N, d = X.shape\n",
    "N, d #70000 цифр, 784 - картинка из 28*28 пискелей"
   ]
  },
  {
   "cell_type": "code",
   "execution_count": 5,
   "id": "4dfe5ad6",
   "metadata": {},
   "outputs": [],
   "source": [
    "def draw_digit(Img, digit):\n",
    "    plt.xticks([])\n",
    "    plt.yticks([])\n",
    "    plt.imshow(np.reshape(Img, (28, 28))) #Выводим написанное число\n",
    "    plt.text(0, 27, str(digit), color = 'b') #Выводим маленькое число в левом нижнем углу\n",
    "    plt.set_cmap('binary')     "
   ]
  },
  {
   "cell_type": "code",
   "execution_count": 6,
   "id": "68b8c19a",
   "metadata": {},
   "outputs": [
    {
     "data": {
      "image/png": "[encoded data removed]",
      "text/plain": [
       "<Figure size 576x216 with 10 Axes>"
      ]
     },
     "metadata": {},
     "output_type": "display_data"
    }
   ],
   "source": [
    "plt.figure(figsize = (8, 3)) \n",
    "for i in range(10):\n",
    "    plt.subplot(2, 5, i+1) #Выводим 2 строчки по 5 картинок\n",
    "    draw_digit(X[i, :], y[i])"
   ]
  },
  {
   "cell_type": "markdown",
   "id": "bde07274",
   "metadata": {},
   "source": [
    "# 1. Метод Kmeans"
   ]
  },
  {
   "cell_type": "code",
   "execution_count": 7,
   "id": "bae41bfe",
   "metadata": {},
   "outputs": [],
   "source": [
    "from sklearn.cluster import KMeans"
   ]
  },
  {
   "cell_type": "code",
   "execution_count": 8,
   "id": "eb5da809",
   "metadata": {},
   "outputs": [],
   "source": [
    "Xtest = X[0:5000]\n",
    "Ytest = y[0:5000]"
   ]
  },
  {
   "cell_type": "code",
   "execution_count": 9,
   "id": "77b3e86d",
   "metadata": {},
   "outputs": [
    {
     "data": {
      "text/plain": [
       "(5000, 784)"
      ]
     },
     "execution_count": 9,
     "metadata": {},
     "output_type": "execute_result"
    }
   ],
   "source": [
    "Xtest.shape"
   ]
  },
  {
   "cell_type": "code",
   "execution_count": 10,
   "id": "63102bd2",
   "metadata": {},
   "outputs": [
    {
     "data": {
      "text/plain": [
       "(5000,)"
      ]
     },
     "execution_count": 10,
     "metadata": {},
     "output_type": "execute_result"
    }
   ],
   "source": [
    "Ytest.shape"
   ]
  },
  {
   "cell_type": "code",
   "execution_count": 11,
   "id": "9c7ef6ba",
   "metadata": {},
   "outputs": [
    {
     "ename": "NameError",
     "evalue": "name 'model' is not defined",
     "output_type": "error",
     "traceback": [
      "\u001b[1;31m---------------------------------------------------------------------------\u001b[0m",
      "\u001b[1;31mNameError\u001b[0m                                 Traceback (most recent call last)",
      "Input \u001b[1;32mIn [11]\u001b[0m, in \u001b[0;36m<cell line: 1>\u001b[1;34m()\u001b[0m\n\u001b[1;32m----> 1\u001b[0m \u001b[43mmodel\u001b[49m\u001b[38;5;241m.\u001b[39mfit(Xtest\u001b[38;5;241m.\u001b[39mdata, Ytest\u001b[38;5;241m.\u001b[39mdata)\n",
      "\u001b[1;31mNameError\u001b[0m: name 'model' is not defined"
     ]
    }
   ],
   "source": [
    "model.fit(Xtest.data, Ytest.data)"
   ]
  },
  {
   "cell_type": "code",
   "execution_count": null,
   "id": "750175bb",
   "metadata": {},
   "outputs": [],
   "source": [
    "all_predictions = model.predict(Xtest.data, Ytest.data)"
   ]
  },
  {
   "cell_type": "code",
   "execution_count": null,
   "id": "a44fe36b",
   "metadata": {},
   "outputs": [],
   "source": [
    "print(all_predictions)"
   ]
  },
  {
   "cell_type": "code",
   "execution_count": null,
   "id": "2f72c2e3",
   "metadata": {},
   "outputs": [],
   "source": [
    "Ytest = Ytest.astype('int8')\n",
    "Ytest"
   ]
  },
  {
   "cell_type": "code",
   "execution_count": null,
   "id": "01dd880c",
   "metadata": {},
   "outputs": [],
   "source": [
    "from sklearn import metrics\n",
    "metrics.rand_score(Ytest, all_predictions)"
   ]
  },
  {
   "cell_type": "markdown",
   "id": "060676fa",
   "metadata": {},
   "source": [
    "Показатель RI равен примерно 0.879"
   ]
  },
  {
   "cell_type": "markdown",
   "id": "bcc5d9eb",
   "metadata": {},
   "source": [
    "# 2. Метод BIRCH"
   ]
  },
  {
   "cell_type": "code",
   "execution_count": null,
   "id": "cbccee30",
   "metadata": {},
   "outputs": [],
   "source": [
    "from sklearn.cluster import Birch\n",
    "model2 = Birch(n_clusters = 10)\n",
    "model2.fit(Xtest.data)\n",
    "Birch(n_clusters = 10)"
   ]
  },
  {
   "cell_type": "code",
   "execution_count": null,
   "id": "a47701ad",
   "metadata": {},
   "outputs": [],
   "source": [
    "all_predictions2 = model2.predict(Xtest.data)"
   ]
  },
  {
   "cell_type": "code",
   "execution_count": null,
   "id": "9691dbe3",
   "metadata": {},
   "outputs": [],
   "source": [
    "all_predictions2"
   ]
  },
  {
   "cell_type": "code",
   "execution_count": null,
   "id": "5cffa2bd",
   "metadata": {},
   "outputs": [],
   "source": [
    "metrics.rand_score(Ytest, all_predictions2)"
   ]
  },
  {
   "cell_type": "markdown",
   "id": "89eff485",
   "metadata": {},
   "source": [
    "Показатель RI равен примерно 0.904"
   ]
  },
  {
   "cell_type": "markdown",
   "id": "d8037f7c",
   "metadata": {},
   "source": [
    "# 3. Метод Meanshift"
   ]
  },
  {
   "cell_type": "code",
   "execution_count": null,
   "id": "f1d58ef4",
   "metadata": {},
   "outputs": [],
   "source": [
    "from sklearn.cluster import MeanShift\n",
    "model3 = MeanShift(bandwidth = 2).fit(Xtest.data)\n",
    "MeanShift(bandwidth = 2)"
   ]
  },
  {
   "cell_type": "code",
   "execution_count": null,
   "id": "2a71650d",
   "metadata": {},
   "outputs": [],
   "source": [
    "all_predictions3 = model3.predict(Xtest.data)"
   ]
  },
  {
   "cell_type": "code",
   "execution_count": null,
   "id": "142143bb",
   "metadata": {},
   "outputs": [],
   "source": [
    "all_predictions3"
   ]
  },
  {
   "cell_type": "code",
   "execution_count": null,
   "id": "e24b37be",
   "metadata": {},
   "outputs": [],
   "source": [
    "metrics.rand_score(Ytest, all_predictions3)"
   ]
  },
  {
   "cell_type": "markdown",
   "id": "708005cf",
   "metadata": {},
   "source": [
    "Показатель RI равен примерно 0.900"
   ]
  },
  {
   "cell_type": "markdown",
   "id": "12fc04e4",
   "metadata": {},
   "source": [
    "Таким образом наилучший результат показал метод BIRCH"
   ]
  },
  {
   "cell_type": "code",
   "execution_count": null,
   "id": "d3cbb212",
   "metadata": {},
   "outputs": [],
   "source": []
  }
 ],
 "metadata": {
  "kernelspec": {
   "display_name": "Python 3 (ipykernel)",
   "language": "python",
   "name": "python3"
  },
  "language_info": {
   "codemirror_mode": {
    "name": "ipython",
    "version": 3
   },
   "file_extension": ".py",
   "mimetype": "text/x-python",
   "name": "python",
   "nbconvert_exporter": "python",
   "pygments_lexer": "ipython3",
   "version": "3.9.12"
  }
 },
 "nbformat": 4,
 "nbformat_minor": 5
}
